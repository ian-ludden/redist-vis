{
 "cells": [
  {
   "cell_type": "code",
   "execution_count": 15,
   "metadata": {},
   "outputs": [],
   "source": [
    "# External imports\n",
    "import geopandas as gpd\n",
    "import networkx as nx\n",
    "import numpy as np\n",
    "import pandas as pd\n",
    "import matplotlib.pyplot as plt"
   ]
  },
  {
   "cell_type": "code",
   "execution_count": 2,
   "metadata": {},
   "outputs": [],
   "source": [
    "# Internal/GerryChain imports\n",
    "import gerrychain\n",
    "from gerrychain.accept import always_accept\n",
    "from gerrychain.proposals import propose_random_flip\n",
    "import helpers"
   ]
  },
  {
   "cell_type": "code",
   "execution_count": 3,
   "metadata": {},
   "outputs": [],
   "source": [
    "# Filenames and other constants\n",
    "tracts_fname = 'data/tl_2013_55_tract.zip'\n",
    "dem_assignment_fname = 'data/wi_gerrymander_dem.csv'\n",
    "gop_assignment_fname = 'data/wi_gerrymander_rep.csv'\n",
    "population_fname = 'data/wi_tract_populations_census_2010.csv'\n",
    "voteshares_fname = 'data/wi_voteshares.csv'"
   ]
  },
  {
   "cell_type": "code",
   "execution_count": 4,
   "metadata": {},
   "outputs": [],
   "source": [
    "# Load district plans\n",
    "dem_plan = helpers.build_district_plan(tracts_fname, dem_assignment_fname, population_fname, voteshares_fname)\n",
    "gop_plan = helpers.build_district_plan(tracts_fname, gop_assignment_fname, population_fname, voteshares_fname)"
   ]
  },
  {
   "cell_type": "code",
   "execution_count": 5,
   "metadata": {},
   "outputs": [
    {
     "data": {
      "text/plain": [
       "Index(['STATEFP', 'COUNTYFP', 'TRACTCE', 'NAME', 'NAMELSAD', 'MTFCC',\n",
       "       'FUNCSTAT', 'ALAND', 'AWATER', 'INTPTLAT', 'INTPTLON', 'geometry',\n",
       "       'population', 'gop_voteshare', 'dem_voteshare', 'gop_votes',\n",
       "       'dem_votes', 'district'],\n",
       "      dtype='object')"
      ]
     },
     "execution_count": 5,
     "metadata": {},
     "output_type": "execute_result"
    }
   ],
   "source": [
    "dem_plan.graph.data.columns"
   ]
  },
  {
   "cell_type": "code",
   "execution_count": 6,
   "metadata": {},
   "outputs": [
    {
     "name": "stdout",
     "output_type": "stream",
     "text": [
      "{4: 339766.445132693, 3: 317539.7528638251, 1: 394925.95154451637, 2: 342659.9695987179, 5: 243911.1079455139, 8: 402199.3899548372, 7: 389209.9750856131, 6: 320664.4464719399}\n"
     ]
    }
   ],
   "source": [
    "print(dem_plan['gop_votes'])"
   ]
  },
  {
   "cell_type": "code",
   "execution_count": 7,
   "metadata": {},
   "outputs": [
    {
     "name": "stdout",
     "output_type": "stream",
     "text": [
      "\n",
      "GOP vote shares:\n",
      "[0.5353273178522656, 0.4644366534408758, 0.4454422622882135, 0.4839350527676512, 0.3426502246237746, 0.47364732105082474, 0.5719092419834296, 0.5531456458003599] \n",
      "\n",
      "0.047325492586033746\n"
     ]
    }
   ],
   "source": [
    "dem_sl_index = helpers.compute_SL_index(dem_plan)\n",
    "print(dem_sl_index)"
   ]
  },
  {
   "cell_type": "code",
   "execution_count": 8,
   "metadata": {},
   "outputs": [
    {
     "name": "stdout",
     "output_type": "stream",
     "text": [
      "\n",
      "GOP vote shares:\n",
      "[0.5477750442092635, 0.5335114865301311, 0.34385272371806425, 0.34199736911002665, 0.5387330151511813, 0.5067407475532154, 0.536630685632199, 0.5255006386202772] \n",
      "\n",
      "0.2839332963131569\n"
     ]
    }
   ],
   "source": [
    "gop_sl_index = helpers.compute_SL_index(gop_plan)\n",
    "print(gop_sl_index)"
   ]
  },
  {
   "cell_type": "code",
   "execution_count": 9,
   "metadata": {},
   "outputs": [
    {
     "name": "stdout",
     "output_type": "stream",
     "text": [
      "k = 8\n",
      "2750877.04\n",
      "2936108.96\n"
     ]
    }
   ],
   "source": [
    "k = len(dem_plan.parts)\n",
    "print('k =', k)\n",
    "total_gop_votes = sum(dem_plan['gop_votes'][i] for i in range(1, k + 1))\n",
    "print('{0:.2f}'.format(total_gop_votes))\n",
    "total_dem_votes = sum(dem_plan['dem_votes'][i] for i in range(1, k + 1))\n",
    "print('{0:.2f}'.format(total_dem_votes))"
   ]
  },
  {
   "cell_type": "code",
   "execution_count": 10,
   "metadata": {},
   "outputs": [
    {
     "name": "stdout",
     "output_type": "stream",
     "text": [
      "0.09\n"
     ]
    }
   ],
   "source": [
    "eg_dem_plan = helpers.compute_efficiency_gap(dem_plan)\n",
    "print('{0:.2f}'.format(eg_dem_plan))"
   ]
  },
  {
   "cell_type": "code",
   "execution_count": 11,
   "metadata": {},
   "outputs": [
    {
     "name": "stdout",
     "output_type": "stream",
     "text": [
      "-0.28\n"
     ]
    }
   ],
   "source": [
    "eg_gop_plan = helpers.compute_efficiency_gap(gop_plan)\n",
    "print('{0:.2f}'.format(eg_gop_plan))"
   ]
  },
  {
   "cell_type": "code",
   "execution_count": 12,
   "metadata": {},
   "outputs": [
    {
     "name": "stdout",
     "output_type": "stream",
     "text": [
      "0.01\n"
     ]
    }
   ],
   "source": [
    "mm_gap_dem_plan = helpers.compute_mm_gap(dem_plan)\n",
    "print('{0:.2f}'.format(mm_gap_dem_plan))"
   ]
  },
  {
   "cell_type": "code",
   "execution_count": 13,
   "metadata": {},
   "outputs": [
    {
     "name": "stdout",
     "output_type": "stream",
     "text": [
      "-0.05\n"
     ]
    }
   ],
   "source": [
    "mm_gap_gop_plan = helpers.compute_mm_gap(gop_plan)\n",
    "print('{0:.2f}'.format(mm_gap_gop_plan))"
   ]
  },
  {
   "cell_type": "code",
   "execution_count": 28,
   "metadata": {},
   "outputs": [
    {
     "name": "stdout",
     "output_type": "stream",
     "text": [
      "0.48434271381554483\n",
      "0.5295060625752042\n",
      "GOP districts: 6\n"
     ]
    }
   ],
   "source": [
    "# MM gap: gop_plan\n",
    "gop_vote_shares = [gop_plan['gop_votes'][i] / (gop_plan['gop_votes'][i] + gop_plan['dem_votes'][i]) for i in range(1, k + 1)]\n",
    "print(np.mean(gop_vote_shares))\n",
    "print(np.median(gop_vote_shares))\n",
    "print('GOP districts:', sum([gop_vote_shares[i] > 0.5 for i in range(len(gop_vote_shares))]))"
   ]
  },
  {
   "cell_type": "code",
   "execution_count": 29,
   "metadata": {},
   "outputs": [
    {
     "name": "stdout",
     "output_type": "stream",
     "text": [
      "0.48381171497592435\n",
      "0.47879118690923794\n",
      "GOP districts: 3\n"
     ]
    }
   ],
   "source": [
    "# MM gap: dem_plan\n",
    "gop_vote_shares = [dem_plan['gop_votes'][i] / (dem_plan['gop_votes'][i] + dem_plan['dem_votes'][i]) for i in range(1, k + 1)]\n",
    "print(np.mean(gop_vote_shares))\n",
    "print(np.median(gop_vote_shares))\n",
    "print('GOP districts:', sum([gop_vote_shares[i] > 0.5 for i in range(len(gop_vote_shares))]))"
   ]
  },
  {
   "cell_type": "code",
   "execution_count": null,
   "metadata": {},
   "outputs": [],
   "source": []
  }
 ],
 "metadata": {
  "kernelspec": {
   "display_name": "Python 3",
   "language": "python",
   "name": "python3"
  },
  "language_info": {
   "codemirror_mode": {
    "name": "ipython",
    "version": 3
   },
   "file_extension": ".py",
   "mimetype": "text/x-python",
   "name": "python",
   "nbconvert_exporter": "python",
   "pygments_lexer": "ipython3",
   "version": "3.7.6"
  }
 },
 "nbformat": 4,
 "nbformat_minor": 4
}
