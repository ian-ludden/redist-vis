{
 "cells": [
  {
   "cell_type": "code",
   "execution_count": 2,
   "metadata": {},
   "outputs": [],
   "source": [
    "import keplergl\n",
    "import import_ipynb\n",
    "import pandas as pd\n",
    "\n",
    "from create_geojson_methods import create_and_get_gdf\n",
    "from create_geojson_methods import get_initial_map_data\n",
    "from create_geojson_methods import clean_gdf_columns\n",
    "from create_geojson_methods import add_initial_map_column_to_gdf\n",
    "from create_geojson_methods import get_list_of_flip_dict\n",
    "from create_geojson_methods import implement_flip_into_new_gdf"
   ]
  },
  {
   "cell_type": "code",
   "execution_count": 6,
   "metadata": {},
   "outputs": [],
   "source": [
    "if __name__ == '__main__':\n",
    "    tracts_fname = 'data/tl_2013_55_tract.zip'\n",
    "    partition_fname = 'data/wi_gerrymander_dem.csv'\n",
    "    json_fname = 'data/wi_path_100flips.json'\n",
    "    district_counter = 2\n",
    "\n",
    "    map_as_gdf = create_and_get_gdf(tracts_fname, partition_fname)\n",
    "    map_as_gdf = clean_gdf_columns(map_as_gdf)\n",
    "    map_data_dict = get_initial_map_data(json_fname)\n",
    "    map_as_gdf = add_initial_map_column_to_gdf(map_data_dict, map_as_gdf)\n",
    "    \n",
    "    #creates first geojson\n",
    "    aggregate_map = map_as_gdf.dissolve(by='district')\n",
    "    aggregate_map.to_file(\"geojson/wi_map_plan_1.geojson\", driver='GeoJSON')\n",
    "    \n",
    "    flip_json_list_of_dict = get_list_of_flip_dict(json_fname)\n",
    "    \n",
    "    for one_flip_dict in flip_json_list_of_dict:\n",
    "        new_map_as_gdf = implement_flip_into_new_gdf(one_flip_dict, map_as_gdf, district_counter)\n",
    "        \n",
    "        # creates geojson from new map that's aggregated\n",
    "        new_aggregate_map = new_map_as_gdf.dissolve(by='district')\n",
    "        new_aggregate_map.to_file(\"geojson/wi_map_plan_\" + str(district_counter) + \".geojson\", driver='GeoJSON')\n",
    "                        \n",
    "        district_counter = district_counter + 1"
   ]
  },
  {
   "cell_type": "code",
   "execution_count": null,
   "metadata": {},
   "outputs": [],
   "source": []
  }
 ],
 "metadata": {
  "kernelspec": {
   "display_name": "Python 3",
   "language": "python",
   "name": "python3"
  },
  "language_info": {
   "codemirror_mode": {
    "name": "ipython",
    "version": 3
   },
   "file_extension": ".py",
   "mimetype": "text/x-python",
   "name": "python",
   "nbconvert_exporter": "python",
   "pygments_lexer": "ipython3",
   "version": "3.8.5"
  }
 },
 "nbformat": 4,
 "nbformat_minor": 4
}
